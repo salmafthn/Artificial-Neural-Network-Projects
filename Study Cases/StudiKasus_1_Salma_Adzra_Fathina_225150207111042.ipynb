{
  "cells": [
    {
      "cell_type": "markdown",
      "metadata": {
        "id": "-laXeUSC8iZ6"
      },
      "source": [
        "Anda diminta merancang sebuah sistem lampu otomatis yang dapat hidup secara otomatis apabila terdapat orang di dalam ruangan dan kondisi pencahayaan rendah. Sistem lampu otomatis anda terdiri dari 3 sensor, yaitu\n",
        "\n",
        "1. Sensor Gerakan (x1)\n",
        "- Apabila terdapat gerakan dalam ruangan maka x1=1; jika tidak x1=0\n",
        "2. Sensor Malam (x2)\n",
        "- Apabila saat ini malam hari maka x2=1; jika tidak x2=0\n",
        "3. Sensor Cahaya (x3)\n",
        "- Apabila cahaya di ruang tamu cukup x3=1; jika tidak x3=0\n",
        "\n",
        "Anda awalnya hanya berencana untuk menggunakan sensor gerakan dan cahaya, namun ternyata sensor cahaya anda terkadang mengalami malfungsi di malam hari sehingga anda harus menggunakannya bersamaan dengan sensor malam.\n",
        "\n",
        "Buatlah sistem McCulloch-Pitts Neuron sederhana sehingga lampu akan menyala apabila terdapat gerakan di dalam ruangan dan pencahayaan sedang gelap atau sedang malam hari.\n",
        "\n",
        "Catatan :\n",
        "1. Diperbolehkan menggunakan MCP 1 stage maupun 2 Stage\n",
        "2. Tidak diberikan template kode, diperbolehkan mengambil dari praktikum"
      ]
    },
    {
      "cell_type": "code",
      "execution_count": 1,
      "metadata": {
        "id": "cosmSGVc8iZ6"
      },
      "outputs": [],
      "source": [
        "test_input = [[0, 0, 0], [1, 0, 0], [1, 1, 0], [1, 0, 1], [1, 1, 1], [0, 0, 1], [0, 1, 0], [0, 1, 1]]\n",
        "test_output = [0, 1, 1, 0, 1, 0, 0, 0]"
      ]
    },
    {
      "cell_type": "code",
      "source": [
        "def binstep(x, th=0):\n",
        "    return 1 if x >= th else 0"
      ],
      "metadata": {
        "id": "FV1anNavBvRP"
      },
      "execution_count": 2,
      "outputs": []
    },
    {
      "cell_type": "code",
      "source": [
        "import numpy as np\n",
        "\n",
        "def MCP(x, w, th):\n",
        "    y_in = np.dot(x, w)\n",
        "    y_out = binstep(y_in, th)\n",
        "\n",
        "    return y_out"
      ],
      "metadata": {
        "id": "pBL2U6mQBvwj"
      },
      "execution_count": 3,
      "outputs": []
    },
    {
      "cell_type": "code",
      "source": [
        "def calc_accuracy(a, b):\n",
        "    s = [1 if a[i] == b[i] else 0 for i in range(len(a))]\n",
        "\n",
        "    return sum(s) / len(a)"
      ],
      "metadata": {
        "id": "xx_-QQ00Bw2u"
      },
      "execution_count": 4,
      "outputs": []
    },
    {
      "cell_type": "code",
      "source": [
        "def AND(X):\n",
        "    w = 1, 1\n",
        "    th = 2\n",
        "    y = [MCP(i, w, th) for i in X]\n",
        "\n",
        "    return y"
      ],
      "metadata": {
        "id": "_aWXg2B6ByWQ"
      },
      "execution_count": 5,
      "outputs": []
    },
    {
      "cell_type": "code",
      "source": [
        "def OR(X):\n",
        "    w = 2, 2\n",
        "    th = 2\n",
        "    y = [MCP(i, w, th) for i in X]\n",
        "\n",
        "    return y"
      ],
      "metadata": {
        "id": "K6HNtUg8B3SC"
      },
      "execution_count": 6,
      "outputs": []
    },
    {
      "cell_type": "code",
      "source": [
        "def NOT(X):\n",
        "    w = [-1]\n",
        "    th = 0\n",
        "    y = [MCP([i], w, th) for i in X]\n",
        "    return y"
      ],
      "metadata": {
        "id": "Sx8hAgP_B69d"
      },
      "execution_count": 7,
      "outputs": []
    },
    {
      "cell_type": "code",
      "source": [
        "def sistemLampu(test_input):\n",
        "  test_output = []\n",
        "  for x1, x2, x3 in test_input:\n",
        "    not_x3 = NOT([x3])[0]\n",
        "    hasil_or = OR([[x2, not_x3]])[0]\n",
        "    hasil_and = AND([[x1, hasil_or]])[0]\n",
        "    test_output.append(hasil_and)\n",
        "\n",
        "  return test_output"
      ],
      "metadata": {
        "id": "AXlITbP2B7Xd"
      },
      "execution_count": 8,
      "outputs": []
    },
    {
      "cell_type": "code",
      "source": [
        "sistemLampu(test_input)"
      ],
      "metadata": {
        "id": "0Dl-ohUSCwF7",
        "outputId": "9c2267a8-19eb-4784-d8bc-33c964a9f986",
        "colab": {
          "base_uri": "https://localhost:8080/"
        }
      },
      "execution_count": 9,
      "outputs": [
        {
          "output_type": "execute_result",
          "data": {
            "text/plain": [
              "[0, 1, 1, 0, 1, 0, 0, 0]"
            ]
          },
          "metadata": {},
          "execution_count": 9
        }
      ]
    },
    {
      "cell_type": "markdown",
      "metadata": {
        "id": "zcvMBARZ8iZ6"
      },
      "source": [
        "## Analisis\n",
        "\n",
        "1. Analisis permasalahan diatas dan nyatakan dalam logika OR, AND, dan NOT!\n",
        "2. Bagaimana anda menentukan bobot untuk setiap input?\n",
        "3. Apakah Model MCP cukup untuk mengatasi permasalahan ini? Mengapa?"
      ]
    },
    {
      "cell_type": "markdown",
      "source": [
        "\n",
        "Jawaban analisis\n",
        "\n",
        "1.  Ada 3 sensor pada lampu (gerakan = x1, malam = x2, cahaya x=3), lalu akan menyala apabila ada gerakan (x1 = 1( dan kondisi pencahayaan rendah (NOT x3) atau malam hari (x2 = 1). Logika yang digunakan adalah x1 AND (NOT x3 OR x2) karena kondisi ada gerakan, ruangan gelap atau malam hari.\n",
        "\n",
        "2.\n",
        "*   untuk AND, aktif apabila kedua input adalah 1 dan bobot kedua input diatur menjadi 1 dan treshold menjadi 2\n",
        "*   untuk OR, aktif apabila salah satu input adalah 1, bobot kedua input diatur menjadi 1 tapi treshold menjadi 1\n",
        "*   untuk NOT,membalik nilai dari input jadi apabila input 1, hasilnya 0 dan apabila input 0 hasilnya 1\n",
        "\n",
        "2.  sudah cukup, apabila permasalahannya sederhana seperti permasalahan ini. Karena model ini memang cocok untuk logika sederhana yang hanya membutuhkan keputusan binary\n",
        "\n",
        "\n",
        "\n",
        "\n",
        "\n",
        "\n",
        "\n"
      ],
      "metadata": {
        "id": "3eRy0ijLDZ9E"
      }
    }
  ],
  "metadata": {
    "language_info": {
      "name": "python"
    },
    "colab": {
      "provenance": []
    },
    "kernelspec": {
      "name": "python3",
      "display_name": "Python 3"
    }
  },
  "nbformat": 4,
  "nbformat_minor": 0
}