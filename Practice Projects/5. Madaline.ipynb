{
  "nbformat": 4,
  "nbformat_minor": 0,
  "metadata": {
    "colab": {
      "provenance": []
    },
    "kernelspec": {
      "name": "python3",
      "display_name": "Python 3"
    }
  },
  "cells": [
    {
      "cell_type": "markdown",
      "metadata": {
        "id": "aLsVNuahNyLX"
      },
      "source": [
        "# Madaline"
      ]
    },
    {
      "cell_type": "markdown",
      "metadata": {
        "id": "BHsOsVtUNygd"
      },
      "source": [
        "## Praktikum"
      ]
    },
    {
      "cell_type": "markdown",
      "metadata": {
        "id": "iLSQhRDeWyO9"
      },
      "source": [
        "### a) Import modul\n",
        "Tulis kode ke dalam *cell* di bawah ini:\n"
      ]
    },
    {
      "cell_type": "code",
      "metadata": {
        "id": "L7GAbOJcW7vD"
      },
      "source": [
        "import numpy as np"
      ],
      "execution_count": 9,
      "outputs": []
    },
    {
      "cell_type": "markdown",
      "metadata": {
        "id": "YO9WiMOEN3cD"
      },
      "source": [
        "### b) Fungsi Aktivasi\n",
        "\n",
        "Tulis kode ke dalam *cell* di bawah ini:"
      ]
    },
    {
      "cell_type": "code",
      "metadata": {
        "id": "ulV5uF9zNwBG"
      },
      "source": [
        "def aktivasi(x):\n",
        "  if x < 0:\n",
        "    return 0\n",
        "  else:\n",
        "    return 1"
      ],
      "execution_count": 10,
      "outputs": []
    },
    {
      "cell_type": "markdown",
      "metadata": {
        "id": "4UV2JYGuFKwU"
      },
      "source": [
        "### c) Fungsi *Training* Madaline\n",
        "\n",
        "Tulis kode ke dalam *cell* di bawah ini:"
      ]
    },
    {
      "cell_type": "code",
      "metadata": {
        "id": "Ucso7xGNFp0k"
      },
      "source": [
        "def train(train_data, train_target, alpha=0.1, max_epoch=10):\n",
        "  w = np.random.random((2,2))\n",
        "  v = np.array([0.5, 0.5])\n",
        "  b = np.random.random(2)\n",
        "  b = np.append(b, 0.5)\n",
        "  epoch = 0\n",
        "  v_aktivasi = np.vectorize(aktivasi)\n",
        "  weight_updated = True\n",
        "  while weight_updated == True and epoch < max_epoch:\n",
        "    weight_updated = False\n",
        "\n",
        "  for data,target in zip(train_data,train_target):\n",
        "    z_in = np.dot(data,w)\n",
        "    z_in = z_in + b[:-1]\n",
        "    z = v_aktivasi(z_in)\n",
        "    y_in = np.dot(z,v) + b[-1]\n",
        "    y = v_aktivasi(y_in)\n",
        "\n",
        "    if y != target:\n",
        "      weight_updated = True\n",
        "      if target == 1:\n",
        "        index = np.argmin(np.abs(z_in))\n",
        "        b[index] = b[index] + alpha * (1 - z_in[index])\n",
        "        w[:, index] = w[:, index] + alpha * (1 - z_in[index])*data\n",
        "      elif target == -1:\n",
        "        index = np.where(z_in>0)[0]\n",
        "        if len(index)==1:\n",
        "          index = index[0]\n",
        "        b[index] = b[index] + alpha * (-1 - z_in[index])\n",
        "        w[:, index] = w[:, index] + alpha * (-1 - z_in[index]) * data\n",
        "\n",
        "  epoch = epoch + 1\n",
        "\n",
        "  return (w,v,b)"
      ],
      "execution_count": 11,
      "outputs": []
    },
    {
      "cell_type": "markdown",
      "metadata": {
        "id": "xK7ORrumFyDw"
      },
      "source": [
        "### d) Fungsi *Testing* Adaline\n",
        "\n",
        "Tulis kode ke dalam *cell* di bawah ini:"
      ]
    },
    {
      "cell_type": "code",
      "metadata": {
        "id": "oJCw9DgYF_ME"
      },
      "source": [
        "def test(w,v,b,test_data):\n",
        "  v_aktivasi = np.vectorize(aktivasi)\n",
        "  z_in = np.dot(test_data, w)\n",
        "  z_in = z_in + b[:-1]\n",
        "  z = v_aktivasi(z_in)\n",
        "  y_in = np.dot(z, v) + b[-1]\n",
        "  y = v_aktivasi(y_in)\n",
        "  return y"
      ],
      "execution_count": 12,
      "outputs": []
    },
    {
      "cell_type": "markdown",
      "metadata": {
        "id": "CplKg8gb0OAx"
      },
      "source": [
        "### e) Fungsi Hitung Akurasi\n",
        "\n",
        "Tulis kode ke dalam *cell* di bawah ini:"
      ]
    },
    {
      "cell_type": "code",
      "metadata": {
        "id": "4XvvdMjR0P-X"
      },
      "source": [
        "def calc_accuracy(a, b):\n",
        "  s = [1 if a[i] == b[i] else 0 for i in range(len(a))]\n",
        "\n",
        "  return sum(s) / len(a)"
      ],
      "execution_count": 13,
      "outputs": []
    },
    {
      "cell_type": "markdown",
      "metadata": {
        "id": "AzVQKtKTFx9l"
      },
      "source": [
        "### f) Logika AND\n",
        "\n",
        "Tulis kode ke dalam *cell* di bawah ini:"
      ]
    },
    {
      "cell_type": "code",
      "metadata": {
        "id": "2d254SJzGKGu",
        "colab": {
          "base_uri": "https://localhost:8080/"
        },
        "outputId": "d2e9505f-a8f0-475f-8a7a-901b159a7060"
      },
      "source": [
        "data = np.array([[1,1],[1,-1],[-1,1],[-1,-1]])\n",
        "target = np.array([1,-1,-1,-1])\n",
        "(w,v,b) = train(data,target,alpha=0.5,max_epoch=10)\n",
        "output = test(w,v,b,data)\n",
        "accuracy = calc_accuracy(output, target)\n",
        "print('Output:', output)\n",
        "print('Target:', target)\n",
        "print('Accuracy:', accuracy)"
      ],
      "execution_count": 14,
      "outputs": [
        {
          "output_type": "stream",
          "name": "stdout",
          "text": [
            "Output: [1 1 1 1]\n",
            "Target: [ 1 -1 -1 -1]\n",
            "Accuracy: 0.25\n"
          ]
        }
      ]
    },
    {
      "cell_type": "markdown",
      "metadata": {
        "id": "xRK1QN-kGMFG"
      },
      "source": [
        "### g) Logika OR\n",
        "\n",
        "Tulis kode ke dalam *cell* di bawah ini:"
      ]
    },
    {
      "cell_type": "code",
      "metadata": {
        "id": "BvcGLITGGO2F",
        "colab": {
          "base_uri": "https://localhost:8080/"
        },
        "outputId": "9f48b782-5b5a-4a96-cba5-197c5128e0fb"
      },
      "source": [
        "data = np.array([[1,1],[1,0],[0,1],[0,0]])\n",
        "target = np.array([1,1,1,0])\n",
        "(w,v,b) = train(data,target,alpha=0.2,max_epoch=10)\n",
        "output = test(w,v,b,data)\n",
        "accuracy = calc_accuracy(output, target)\n",
        "\n",
        "print('Output:', output)\n",
        "print('Target:', target)\n",
        "print('Accuracy:', accuracy)"
      ],
      "execution_count": 15,
      "outputs": [
        {
          "output_type": "stream",
          "name": "stdout",
          "text": [
            "Output: [1 1 1 1]\n",
            "Target: [1 1 1 0]\n",
            "Accuracy: 0.75\n"
          ]
        }
      ]
    },
    {
      "cell_type": "markdown",
      "source": [
        "### h) Logika AND NOT\n",
        "\n",
        "Tulis kode ke dalam *cell* di bawah ini:"
      ],
      "metadata": {
        "id": "y8stNXmQwad5"
      }
    },
    {
      "cell_type": "code",
      "metadata": {
        "id": "sNluOoOhfGaF",
        "colab": {
          "base_uri": "https://localhost:8080/"
        },
        "outputId": "5e0cabb4-1305-495a-e693-add92ff6e714"
      },
      "source": [
        "data = np.array([[1,1],[1,-1],[-1,1],[-1,-1]])\n",
        "target = np.array([-1,1,-1,-1])\n",
        "(w,v,b) = train(data,target,alpha=0.2,max_epoch=10)\n",
        "output = test(w,v,b,data)\n",
        "accuracy = calc_accuracy(output, target)\n",
        "\n",
        "print('Output:', output)\n",
        "print('Target:', target)\n",
        "print('Accuracy:', accuracy)"
      ],
      "execution_count": 18,
      "outputs": [
        {
          "output_type": "stream",
          "name": "stdout",
          "text": [
            "Output: [1 1 1 1]\n",
            "Target: [-1  1 -1 -1]\n",
            "Accuracy: 0.25\n"
          ]
        }
      ]
    },
    {
      "cell_type": "markdown",
      "source": [
        "### i) Logika XOR\n",
        "\n",
        "Tulis kode ke dalam *cell* di bawah ini:"
      ],
      "metadata": {
        "id": "-r1-I6afwlxT"
      }
    },
    {
      "cell_type": "code",
      "source": [
        "data = np.array([[1,1],[1,-1],[-1,1],[-1,-1]])\n",
        "target = np.array([-1,1,1,-1])\n",
        "(w,v,b) = train(data,target,alpha=0.8,max_epoch=10)\n",
        "output = test(w,v,b,data)\n",
        "accuracy = calc_accuracy(output, target)\n",
        "print('Output:', output)\n",
        "print('Target:', target)\n",
        "print('Accuracy:', accuracy)"
      ],
      "metadata": {
        "id": "bSMLmMvrwkT3",
        "colab": {
          "base_uri": "https://localhost:8080/"
        },
        "outputId": "5590acfb-082a-4706-8b1a-19e1f965287c"
      },
      "execution_count": 17,
      "outputs": [
        {
          "output_type": "stream",
          "name": "stdout",
          "text": [
            "Output: [1 1 1 1]\n",
            "Target: [-1  1  1 -1]\n",
            "Accuracy: 0.5\n"
          ]
        }
      ]
    },
    {
      "cell_type": "markdown",
      "source": [
        "1. Berdasarkan source code yang ada, kapan proses training pada Madaline\n",
        "akan berhenti?\n",
        "2. Cobalah mengganti nilai alpha pada logika AND dengan rentang nilai 0,1-1.0. Apakah ada pengaruh alpha terhadap akurasi?\n",
        "3. Apakah jaringan Madaline dapat mengenali logika XOR dengan tepat?\n",
        "Mengapa demikian?\n",
        "4. Ubahlah data dan target pada Logika OR menggunakan bilangan biner\n",
        "(bukan bipolar). Jangan lupa mengubah pula fungsi aktivasi agar\n",
        "menghasilkan bilangan biner. Apakah Madaline dapat mengenali Logika OR\n",
        "dengan data dan target biner? Mengapa demikian?"
      ],
      "metadata": {
        "id": "h2DBqA0X3nvX"
      }
    },
    {
      "cell_type": "markdown",
      "source": [
        "JAWABAN\n",
        "\n",
        "1.   proses training akan berhenti ketika epoch lebih besar atau mencapai jumlah maksimal max_epoch\n",
        "\n",
        "2.    alpha adalah learning rate mempengaruhi tingkat akurasi, jika nilai alpha di bawah 0,6 pada logika AND, akurasi yang didapat hanya mencapai 75%, apabila untuk nilai antara 0,6 - 1,0, akurasi dapat mencapai 100%. Learning rate menentukan seberapa cepat bobot diperbarui selama proses pelatihan. Oleh karena itu, dengan learning rate yang lebih kecil (dalam kondisi jumlah epoch yang sama), proses konvergensi menjadi lebih lambat.\n",
        "\n",
        "3.   Madaline adalah model yang bersifat linear. Sehingga madaline tidak bisa menyelesaikan non-linear seperti logika XOR. Namun, karena Madaline merupakan model multilayer atau memiliki lebih dari satu lapisan, kemampuan ini memungkinkannya untuk mempelajari data yang lebih kompleks dan bisa menyelesaikan non-linear.\n",
        "\n",
        "4.  Setelah beberapa penyesuaian dilakukan terhadap data, target, dan fungsi aktivasi, Madaline tidak bisa menyelesaikan logika OR dengan data biner secara efektif. Model ini hanya mencapai akurasi 75% meskipun sudah mencapai konvergensi. Percobaan dengan mengubah epoch dan nilai alpha ke beberapa nilai tertentu tidak mempengaruhi hasil, tetap berada di angka 75%. Hal ini kemungkinan disebabkan oleh fungsi aktivasinya. Fungsi aktivasi memiliki kondisi \"if x < 0 maka return 0,\" sementara data yang digunakan hanya 0 dan 1, sehingga kondisi tersebut tidak pernah terpenuhi. Ketika data bernilai 0, fungsi aktivasi menghasilkan output 1. Masalah ini terjadi karena biasanya fungsi aktivasi biner menggunakan threshold sebagai batas, bukan nilai 0.\n",
        "\n",
        "\n"
      ],
      "metadata": {
        "id": "dtcNcV-43qsA"
      }
    }
  ]
}