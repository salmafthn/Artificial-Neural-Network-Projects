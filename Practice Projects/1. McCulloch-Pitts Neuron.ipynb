{
  "cells": [
    {
      "cell_type": "markdown",
      "metadata": {
        "id": "9nBMRPjzYQM_"
      },
      "source": [
        "# Praktikum Jaringan Saraf Tiruan\n",
        "# Bab 1 McCulloch-Pitts Neuron"
      ]
    },
    {
      "cell_type": "markdown",
      "metadata": {
        "id": "WLV69evv93z6"
      },
      "source": [
        "## Praktikum"
      ]
    },
    {
      "cell_type": "markdown",
      "metadata": {
        "id": "TH2WWbKOYbfi"
      },
      "source": [
        "### a) Fungsi *Step* Biner\n",
        "\n",
        "Tulis kode ke dalam *cell* di bawah ini:"
      ]
    },
    {
      "cell_type": "code",
      "execution_count": 1,
      "metadata": {
        "id": "bIJkBSh2Wagw"
      },
      "outputs": [],
      "source": [
        "def binstep(x, th=0):\n",
        "    return 1 if x >= th else 0"
      ]
    },
    {
      "cell_type": "markdown",
      "metadata": {
        "id": "hqsbbVnjbQg8"
      },
      "source": [
        "### b) Fungsi McCulloch-Pitts (MCP) Neuron\n",
        "\n",
        "Tulis kode ke dalam *cell* di bawah ini:"
      ]
    },
    {
      "cell_type": "code",
      "execution_count": 2,
      "metadata": {
        "id": "1ib6LYBRbRDF"
      },
      "outputs": [],
      "source": [
        "import numpy as np\n",
        "\n",
        "def MCP(x, w, th):\n",
        "    y_in = np.dot(x, w)\n",
        "    y_out = binstep(y_in, th)\n",
        "    \n",
        "    return y_out"
      ]
    },
    {
      "cell_type": "markdown",
      "metadata": {
        "id": "u-cpofdCfNUI"
      },
      "source": [
        "### c) Fungsi Hitung Akurasi"
      ]
    },
    {
      "cell_type": "code",
      "execution_count": 3,
      "metadata": {
        "id": "ZXiZ_tEhfQQb"
      },
      "outputs": [],
      "source": [
        "def calc_accuracy(a, b):\n",
        "    s = [1 if a[i] == b[i] else 0 for i in range(len(a))]\n",
        "    \n",
        "    return sum(s) / len(a)"
      ]
    },
    {
      "cell_type": "markdown",
      "metadata": {
        "id": "yucbIRQSfs4l"
      },
      "source": [
        "### d) Fungsi Logika AND\n",
        "\n",
        "Tulis kode ke dalam *cell* di bawah ini:"
      ]
    },
    {
      "cell_type": "code",
      "execution_count": 4,
      "metadata": {
        "id": "NiNa336XfzuU"
      },
      "outputs": [],
      "source": [
        "def AND(X):\n",
        "    w = 1, 1\n",
        "    th = 2\n",
        "    y = [MCP(i, w, th) for i in X]\n",
        "    \n",
        "    return y"
      ]
    },
    {
      "cell_type": "markdown",
      "metadata": {
        "id": "6WFr1QxJhA8z"
      },
      "source": [
        "### e) Eksekusi Logika AND\n",
        "\n",
        "Tulis kode ke dalam *cell* di bawah ini:"
      ]
    },
    {
      "cell_type": "code",
      "execution_count": 5,
      "metadata": {
        "id": "2racFwUKhGhw"
      },
      "outputs": [
        {
          "name": "stdout",
          "output_type": "stream",
          "text": [
            "Output: [0, 0, 0, 1]\n",
            "True: (0, 0, 0, 1)\n",
            "Accuracy: 1.0\n"
          ]
        }
      ],
      "source": [
        "data = (0,0), (0,1), (1,0), (1,1)\n",
        "output = AND(data)\n",
        "true = 0,0,0,1\n",
        "accuracy = calc_accuracy(output, true)\n",
        "\n",
        "print('Output:', output)\n",
        "print('True:', true)\n",
        "print('Accuracy:', accuracy)"
      ]
    },
    {
      "cell_type": "markdown",
      "metadata": {
        "id": "8yH-wMNUuLnh"
      },
      "source": [
        "### f) Fungsi Logika OR\n",
        "\n",
        "Tulis kode ke dalam *cell* di bawah ini:"
      ]
    },
    {
      "cell_type": "code",
      "execution_count": 6,
      "metadata": {
        "id": "VQ051x3e8Fni"
      },
      "outputs": [],
      "source": [
        "def OR(X):\n",
        "    w = 2, 2\n",
        "    th = 2\n",
        "    y = [MCP(i, w, th) for i in X]\n",
        "    \n",
        "    return y"
      ]
    },
    {
      "cell_type": "markdown",
      "metadata": {
        "id": "WMBtCgmz8F9V"
      },
      "source": [
        "### g)\tEksekusi Logika OR\n",
        "\n",
        "Tulis kode ke dalam *cell* di bawah ini:"
      ]
    },
    {
      "cell_type": "code",
      "execution_count": 7,
      "metadata": {
        "id": "Cjq7S2ax8IHu"
      },
      "outputs": [
        {
          "name": "stdout",
          "output_type": "stream",
          "text": [
            "Output: [0, 1, 1, 1]\n",
            "True: (0, 1, 1, 1)\n",
            "Accuracy: 1.0\n"
          ]
        }
      ],
      "source": [
        "data = (0,0), (0,1), (1,0), (1,1)\n",
        "output = OR(data)\n",
        "true = 0,1,1,1\n",
        "accuracy = calc_accuracy(output, true)\n",
        "\n",
        "print('Output:', output)\n",
        "print('True:', true)\n",
        "print('Accuracy:', accuracy)"
      ]
    },
    {
      "cell_type": "markdown",
      "metadata": {
        "id": "dg__TkVI8Ko9"
      },
      "source": [
        "### h) Logika AND NOT\n",
        "\n",
        "Tulis kode ke dalam *cell* di bawah ini:"
      ]
    },
    {
      "cell_type": "code",
      "execution_count": 8,
      "metadata": {
        "id": "EO-ZbanW8P6J"
      },
      "outputs": [],
      "source": [
        "def ANDNOT(X):\n",
        "    w = 2, -1\n",
        "    th = 2\n",
        "    y = [MCP(i, w, th) for i in X]\n",
        "    \n",
        "    return y"
      ]
    },
    {
      "cell_type": "markdown",
      "metadata": {
        "id": "ybMvyiyN8RMS"
      },
      "source": [
        "### i) Eksekusi Logika AND NOT\n",
        "\n",
        "Tulis kode ke dalam *cell* di bawah ini:"
      ]
    },
    {
      "cell_type": "code",
      "execution_count": 9,
      "metadata": {
        "id": "8Ccg-2UU8Ugk"
      },
      "outputs": [
        {
          "name": "stdout",
          "output_type": "stream",
          "text": [
            "Output: [0, 0, 1, 0]\n",
            "True: (0, 0, 1, 0)\n",
            "Accuracy: 1.0\n"
          ]
        }
      ],
      "source": [
        "data = (0,0), (0,1), (1,0), (1,1)\n",
        "output = ANDNOT(data)\n",
        "true = 0,0,1,0\n",
        "accuracy = calc_accuracy(output, true)\n",
        "\n",
        "print('Output:', output)\n",
        "print('True:', true)\n",
        "print('Accuracy:', accuracy)"
      ]
    },
    {
      "cell_type": "markdown",
      "metadata": {
        "id": "pjx_Nnmw-Adv"
      },
      "source": [
        "### j) Fungsi Logika XOR\n",
        "\n",
        "Tulis kode ke dalam *cell* di bawah ini:"
      ]
    },
    {
      "cell_type": "code",
      "execution_count": 10,
      "metadata": {
        "id": "AN2gQc1A-FPf"
      },
      "outputs": [],
      "source": [
        "def XOR(X):\n",
        "  X_flip = [(i[1], i[0]) for i in X]\n",
        "  y1 = ANDNOT(X)\n",
        "  y2 = ANDNOT(X_flip)\n",
        "  y = zip(y1, y2)\n",
        "  z = OR(y)\n",
        "\n",
        "  return z"
      ]
    },
    {
      "cell_type": "markdown",
      "metadata": {
        "id": "BF6s1lFa-Fyf"
      },
      "source": [
        "### k) Eksekusi Logika XOR\n",
        "\n",
        "Tulis kode ke dalam *cell* di bawah ini:"
      ]
    },
    {
      "cell_type": "code",
      "execution_count": 11,
      "metadata": {
        "id": "DLbzE9yl-JFR"
      },
      "outputs": [
        {
          "name": "stdout",
          "output_type": "stream",
          "text": [
            "Output: [0, 1, 1, 0]\n",
            "True: (0, 1, 1, 0)\n",
            "Accuracy: 1.0\n"
          ]
        }
      ],
      "source": [
        "data =  (0,0), (0,1), (1,0), (1,1)\n",
        "output = XOR(data)\n",
        "true = 0, 1, 1, 0\n",
        "accuracy = calc_accuracy(output, true)\n",
        "\n",
        "print('Output:', output)\n",
        "print('True:', true)\n",
        "print('Accuracy:', accuracy)"
      ]
    },
    {
      "cell_type": "markdown",
      "metadata": {
        "slideshow": {
          "slide_type": "slide"
        }
      },
      "source": [
        "Analisis"
      ]
    },
    {
      "cell_type": "markdown",
      "metadata": {},
      "source": [
        "1. jalankan semua cell(ctrl+F9). amati output dan akurasi yang dihasilkan\n",
        "2. Pada kode a, apa maksud dari statement return 1 if x >= th else 0?\n",
        "3. pada kode b:\n",
        "    a. apakah perbedaan antara variabel y_in dan y_out?\n",
        "    b. apakah yang dilakukan oleh fungsi np.dot()\n",
        "4. pada kode c apakah kegunaan dari variabel-variabel w dan th (pada kode c tidak terdapat variabel w dan th sehingga saya menjawab berdasarkan kode d)\n",
        "5. pada kode j apakah tujuan dari variabel X_flip?\n",
        "6. Pada hal apa saja terdapat kesamaan antara neuron biologis dan neuron tiruan?\n",
        "7. jelaskan kelebihan dan kekurangan yang dimiliki McCulloch-Pitts neuron\n",
        "8. Mengapa logika XOR lebih rumit sehingga membutuhkan kombinasi beberapa logika yang lain?"
      ]
    },
    {
      "cell_type": "markdown",
      "metadata": {},
      "source": [
        "Jawaban\n",
        "\n",
        "1. Semua fungsi berjalan dengan baik dan memiliki tingkat akurasi 1\n",
        "2. Arti dari statement return 1 if x >= th else 0 adalah langkah-langkah untuk mmelakukan step binary, dimana fungsi tersebut akan mengembalikan angka 1 atau 0 tergantung kondisi yang terpenuhi\n",
        "3.  a. variabel y_in berfungsi untuk menghitung input dan berat dari neuron, sedangkan untuk y_out digunakan untuk menyimpan hasil dari fungsi binary step dari y_in dan treshold\n",
        "    b. fungsi np.dot() digunakan untuk melakukan operasi dot produk  (hasil perkalian titik) antar nilai input dengan bobot \n",
        "4. kegunaan variabel w untuk menyimpan weight / bobot dari input yang terhubung dengan node neuron sedangkan th adalah treshold / batas ambang. Untuk fungsi aktivasi step biner logika AND, apabila nilai input lebih / sama dengan satu, maka outputnya adalah satu, dan sebaliknya.\n",
        "5. Fungsi variabel X_flip adalah untuk subtitusi, dimana membalik tiap input yang berupa pasangan nilai biner. Digunakan untuk memastikan kombinasi input dapat diproses dalam XOR.\n",
        "6.  a. tiap neuron saling terhubung\n",
        "    b. memerlukan suatu input, dan input tersebut dapat diubah dengan suatu fungsi aktivasi.\n",
        "7.  Kelebihan:\n",
        "    a. cocok untuk operasi logika sederhana\n",
        "    b. bisa untuk implementasi gerbang logika dasar seperti AND, OR, dan lainnya\n",
        "    Kekurangan:\n",
        "    a. tidak bisa handle non-boolean input\n",
        "    b. harus mengatur treshold dengan manual\n",
        "8. karena fungsi ini merupakan fungsi non linear, dan memerlukan dua input. "
      ]
    }
  ],
  "metadata": {
    "colab": {
      "provenance": [],
      "toc_visible": true
    },
    "kernelspec": {
      "display_name": "Python 3",
      "name": "python3"
    },
    "language_info": {
      "codemirror_mode": {
        "name": "ipython",
        "version": 3
      },
      "file_extension": ".py",
      "mimetype": "text/x-python",
      "name": "python",
      "nbconvert_exporter": "python",
      "pygments_lexer": "ipython3",
      "version": "3.12.2"
    }
  },
  "nbformat": 4,
  "nbformat_minor": 0
}
