{
  "nbformat": 4,
  "nbformat_minor": 0,
  "metadata": {
    "colab": {
      "provenance": []
    },
    "kernelspec": {
      "name": "python3",
      "display_name": "Python 3"
    },
    "language_info": {
      "name": "python"
    }
  },
  "cells": [
    {
      "cell_type": "markdown",
      "metadata": {
        "id": "8sBj-jBGbLEn"
      },
      "source": [
        "# Self-Organizing Maps"
      ]
    },
    {
      "cell_type": "markdown",
      "metadata": {
        "id": "pnT6xw0qbT0C"
      },
      "source": [
        "## Praktikum"
      ]
    },
    {
      "cell_type": "markdown",
      "metadata": {
        "id": "tC5FDai2begm"
      },
      "source": [
        "### a) Fungsi *self-organizing maps*\n",
        "Tulis kode ke dalam *cell* di bawah ini:"
      ]
    },
    {
      "cell_type": "code",
      "metadata": {
        "id": "s8U5y5ESbzN8"
      },
      "source": [
        "import numpy as np\n",
        "\n",
        "def som(X, lrate, b, max_epoch, n_cluster):\n",
        "  centroids = np.random.uniform(size=(n_cluster, len(X[0])))\n",
        "  epoch = 0\n",
        "  labels = []\n",
        "\n",
        "  while epoch < max_epoch:\n",
        "    for x in X:\n",
        "      d = [sum((w - x) ** 2) for w in centroids]\n",
        "      min = np.argmin(d)\n",
        "      centroids[min] += lrate * (x - centroids[min])\n",
        "\n",
        "    lrate *= b\n",
        "    epoch += 1\n",
        "\n",
        "  for x in X:\n",
        "    d = [sum((w - x) ** 2) for w in centroids]\n",
        "    min = np.argmin(d)\n",
        "\n",
        "    labels.append(min)\n",
        "\n",
        "  return centroids, labels\n",
        "\n",
        "def draw(X, target, centroids):\n",
        "  colors = 'rgbcmyk'\n",
        "\n",
        "  for x, label in zip(X, target):\n",
        "    plt.plot(x[0], x[1], colors[label] + '.')\n",
        "\n",
        "  plt.plot(centroids[:, 0], centroids[:, 1],'kx')"
      ],
      "execution_count": 1,
      "outputs": []
    },
    {
      "cell_type": "markdown",
      "metadata": {
        "id": "xDauUXg8bz-Q"
      },
      "source": [
        "### b) Klasterisasi\n",
        "Tulis kode ke dalam *cell* di bawah ini:"
      ]
    },
    {
      "cell_type": "code",
      "metadata": {
        "id": "6khcAIFGb8Jr",
        "colab": {
          "base_uri": "https://localhost:8080/",
          "height": 447
        },
        "outputId": "a56d91bb-6d80-4f5b-acfd-4a69706e14c6"
      },
      "source": [
        "from sklearn.datasets import make_blobs\n",
        "from sklearn.metrics import silhouette_score\n",
        "import matplotlib.pyplot as plt\n",
        "\n",
        "X, target = make_blobs(n_samples = 30, n_features = 2, centers = 3, random_state = 3)\n",
        "centroids, labels = som(X, lrate = 0.5, b = 0.5, max_epoch = 100, n_cluster = 3)\n",
        "\n",
        "silhouette = silhouette_score(X, labels)\n",
        "print('silhouette score: ', silhouette)\n",
        "draw(X, target, centroids)"
      ],
      "execution_count": 2,
      "outputs": [
        {
          "output_type": "stream",
          "name": "stdout",
          "text": [
            "silhouette score:  0.7215682462170806\n"
          ]
        },
        {
          "output_type": "display_data",
          "data": {
            "text/plain": [
              "<Figure size 640x480 with 1 Axes>"
            ],
            "image/png": "[encoded data removed]"
          },
          "metadata": {}
        }
      ]
    },
    {
      "cell_type": "markdown",
      "source": [
        "## Analisis"
      ],
      "metadata": {
        "id": "2KELXBDyMbzu"
      }
    },
    {
      "cell_type": "markdown",
      "source": [
        "1. Ubah parameter kode b menjadi a = 0,05 dan max_epoch = 3, analisis hasil dan nilai silhouette yang didapatkan"
      ],
      "metadata": {
        "id": "3ppTH9oeMfZj"
      }
    },
    {
      "cell_type": "code",
      "source": [
        "from sklearn.datasets import make_blobs\n",
        "from sklearn.metrics import silhouette_score\n",
        "import matplotlib.pyplot as plt\n",
        "\n",
        "X, target = make_blobs(n_samples = 30, n_features = 2, centers = 3, random_state = 3)\n",
        "centroids, labels = som(X, lrate = 0.05, b = 0.5, max_epoch = 3, n_cluster = 3)\n",
        "\n",
        "silhouette = silhouette_score(X, labels)\n",
        "print('silhouette score: ', silhouette)\n",
        "draw(X, target, centroids)"
      ],
      "metadata": {
        "colab": {
          "base_uri": "https://localhost:8080/",
          "height": 447
        },
        "id": "_KU-EiBbMqcr",
        "outputId": "0d51dcb3-6341-4711-bcfa-f162e4ef1203"
      },
      "execution_count": 3,
      "outputs": [
        {
          "output_type": "stream",
          "name": "stdout",
          "text": [
            "silhouette score:  0.29613180669265315\n"
          ]
        },
        {
          "output_type": "display_data",
          "data": {
            "text/plain": [
              "<Figure size 640x480 with 1 Axes>"
            ],
            "image/png": "[encoded data removed]"
          },
          "metadata": {}
        }
      ]
    },
    {
      "cell_type": "markdown",
      "source": [
        "*   Banyak data tidak terkumpul pada titik centroid / neuron, jumlah epoch yang terlalu sedikit dan learning rate tearllu kecil menyebabkan data tidak ter cluster dengan baik\n"
      ],
      "metadata": {
        "id": "uVTUyULINFG-"
      }
    }
  ]
}