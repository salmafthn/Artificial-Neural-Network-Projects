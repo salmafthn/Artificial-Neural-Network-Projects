{
  "nbformat": 4,
  "nbformat_minor": 0,
  "metadata": {
    "colab": {
      "provenance": []
    },
    "kernelspec": {
      "name": "python3",
      "display_name": "Python 3"
    }
  },
  "cells": [
    {
      "cell_type": "markdown",
      "metadata": {
        "id": "FKmHk-FbKDWe"
      },
      "source": [
        "# Bab 7 Learning Vector Quantization"
      ]
    },
    {
      "cell_type": "markdown",
      "metadata": {
        "id": "ewAbtN39KDGN"
      },
      "source": [
        "## Praktikum"
      ]
    },
    {
      "cell_type": "markdown",
      "metadata": {
        "id": "B-d5r_PjKGb2"
      },
      "source": [
        "### a) Fungsi *Training* LVQ\n",
        "\n",
        "Tulis kode ke dalam *cell* di bawah ini:"
      ]
    },
    {
      "cell_type": "code",
      "metadata": {
        "id": "YPq3_74LJ8lA"
      },
      "source": [
        "import numpy as np\n",
        "\n",
        "def lvq_fit(train, target, lrate, b, max_epoch):\n",
        "  label, train_idx = np.unique(target, return_index=True)\n",
        "  weight = train[train_idx].astype(np.float64)\n",
        "\n",
        "  train = np.delete(train, train_idx, axis=0)\n",
        "  target = np.delete(target, train_idx, axis=0)\n",
        "\n",
        "  epoch = 0\n",
        "  while epoch < max_epoch:\n",
        "    for i, x in enumerate(train):\n",
        "      distance = [sum((x - w)**2) for w in weight]\n",
        "      min_idx = np.argmin(distance)\n",
        "      sign = 1 if target[i] == label[min_idx] else -1\n",
        "      weight[min_idx] += sign * lrate * (x - weight[min_idx])\n",
        "\n",
        "      lrate *= b\n",
        "    epoch += 1\n",
        "\n",
        "  return weight, label\n"
      ],
      "execution_count": 1,
      "outputs": []
    },
    {
      "cell_type": "markdown",
      "metadata": {
        "id": "0i3Wu52SKVlI"
      },
      "source": [
        "### b) Fungsi *Testing* LVQ\n",
        "\n",
        "Tulis kode ke dalam *cell* di bawah ini:"
      ]
    },
    {
      "cell_type": "code",
      "metadata": {
        "id": "ogz8RQ0JKZkn"
      },
      "source": [
        "def lvq_predict(X, model):\n",
        "  center, label = model\n",
        "  Y = []\n",
        "\n",
        "  for x in X:\n",
        "    d = [sum((c - x) ** 2) for c in center]\n",
        "    Y.append(label[np.argmin(d)])\n",
        "\n",
        "  return Y"
      ],
      "execution_count": 2,
      "outputs": []
    },
    {
      "cell_type": "markdown",
      "metadata": {
        "id": "bgf87iLclSRy"
      },
      "source": [
        "### c) Fungsi Hitung Akurasi"
      ]
    },
    {
      "cell_type": "code",
      "metadata": {
        "id": "Et-YE6WclSqQ"
      },
      "source": [
        "def calc_accuracy(a, b):\n",
        "  s = [1 if a [i] == b[i] else 0 for i in range(len(a))]\n",
        "\n",
        "  return sum(s) / len(a)"
      ],
      "execution_count": 3,
      "outputs": []
    },
    {
      "cell_type": "markdown",
      "metadata": {
        "id": "aazmHIl6KeFu"
      },
      "source": [
        "### d) Percobaan LVQ\n",
        "\n",
        "Tulis kode ke dalam *cell* di bawah ini:"
      ]
    },
    {
      "cell_type": "code",
      "metadata": {
        "id": "vcbWhRy7Kqiy",
        "colab": {
          "base_uri": "https://localhost:8080/",
          "height": 447
        },
        "outputId": "1b1cd0bc-f0fd-480f-f2ee-815ac5d3fe2f"
      },
      "source": [
        "from random import uniform\n",
        "import matplotlib.pyplot as plt\n",
        "from sklearn.model_selection import train_test_split\n",
        "from sklearn.datasets import make_blobs, make_classification\n",
        "\n",
        "X, y = make_classification(n_samples = 31, n_features = 2, n_redundant = 0, n_informative = 2, n_classes = 3, n_clusters_per_class = 1)\n",
        "X_train, X_test, y_train, y_test = train_test_split(X, y, test_size = 0.2)\n",
        "\n",
        "model = lvq_fit(X_train, y_train, lrate = .5, b = .8, max_epoch = 50)\n",
        "output = lvq_predict(X_test, model)\n",
        "accuracy = calc_accuracy(y_test, output)\n",
        "\n",
        "colors = 'rgbcmyk'\n",
        "\n",
        "print('Accuracy: ', accuracy)\n",
        "\n",
        "for x, label in zip(X_train, y_train):\n",
        "  plt.plot(x[0], x[1], colors[label] + '.')\n",
        "\n",
        "for center, label in zip(model[0], model[1]):\n",
        "  plt.plot(center[0], center[1], colors[label] + 'o')\n",
        "\n",
        "for x, label in zip(X_test, output):\n",
        "  plt.plot(x[0], x[1], colors[label] + 'x')"
      ],
      "execution_count": 7,
      "outputs": [
        {
          "output_type": "stream",
          "name": "stdout",
          "text": [
            "Accuracy:  0.7142857142857143\n"
          ]
        },
        {
          "output_type": "display_data",
          "data": {
            "text/plain": [
              "<Figure size 640x480 with 1 Axes>"
            ],
            "image/png": "[encoded data removed]"
          },
          "metadata": {}
        }
      ]
    },
    {
      "cell_type": "markdown",
      "source": [
        "## Analisis"
      ],
      "metadata": {
        "id": "i69HZe7jOnbY"
      }
    },
    {
      "cell_type": "markdown",
      "source": [
        "1. Jalankan kode d beberapa kali hingga didapat akurasi kurang dari 1.0 Amati dan analisis di mana error terjadi.\n",
        "\n",
        "Jawab\n",
        "Terdapat beberapa error yang menjadikan akurasi menjadi 71%. Terlihat pada plot bahwa ada data yang tidak pada warna neuronnya, dan juga ada data yang overlapping sehingga LVQ sulit untuk memisahkan kelas."
      ],
      "metadata": {
        "id": "-a_1lmyPOmF4"
      }
    }
  ]
}